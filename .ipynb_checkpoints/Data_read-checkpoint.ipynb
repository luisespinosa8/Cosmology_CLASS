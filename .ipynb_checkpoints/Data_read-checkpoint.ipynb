{
 "cells": [
  {
   "cell_type": "code",
   "execution_count": 3,
   "id": "49720e24",
   "metadata": {},
   "outputs": [],
   "source": [
    "import numpy as np\n",
    "import os\n",
    "import pandas as pd\n",
    "import matplotlib.pyplot as plt"
   ]
  },
  {
   "cell_type": "code",
   "execution_count": 32,
   "id": "4759471d",
   "metadata": {},
   "outputs": [
    {
     "ename": "TypeError",
     "evalue": "main() missing 1 required positional argument: 'inp_model'",
     "output_type": "error",
     "traceback": [
      "\u001b[0;31m---------------------------------------------------------------------------\u001b[0m",
      "\u001b[0;31mTypeError\u001b[0m                                 Traceback (most recent call last)",
      "Cell \u001b[0;32mIn[32], line 96\u001b[0m\n\u001b[1;32m     92\u001b[0m         \u001b[38;5;28;01mreturn\u001b[39;00m bkg_data, pk_data, cmb_data, therm_data\n\u001b[1;32m     95\u001b[0m \u001b[38;5;28;01mif\u001b[39;00m \u001b[38;5;18m__name__\u001b[39m \u001b[38;5;241m==\u001b[39m \u001b[38;5;124m\"\u001b[39m\u001b[38;5;124m__main__\u001b[39m\u001b[38;5;124m\"\u001b[39m:\n\u001b[0;32m---> 96\u001b[0m     main()\n",
      "\u001b[0;31mTypeError\u001b[0m: main() missing 1 required positional argument: 'inp_model'"
     ]
    }
   ],
   "source": [
    "plt.rc('font', size=10, family='serif')\n",
    "plt.rc('text', usetex=True)\n",
    "\n",
    "inp_model = 'LCDM_evol_pert00'\n",
    "\n",
    "path_to_folder = os.getcwd()\n",
    "path_to_input = '/Users/luisenriqueespinosacastro/class/output/'\n",
    "\n",
    "\n",
    "def main(inp_model, nl=False, pert_ev=False):\n",
    "\n",
    "    # BACKGROUND\n",
    "\n",
    "    filename_bkg = inp_model + '_background.dat'\n",
    "    file_bkg = path_to_input + filename_bkg\n",
    "    bkg_txt = np.loadtxt(file_bkg)\n",
    "    bkg_data = pd.DataFrame({'z': bkg_txt[:, 0], 'proper time': bkg_txt[:, 1],\n",
    "                                   'conf.time': bkg_txt[:, 2], 'H': bkg_txt[:, 3],\n",
    "                                    'comov.dist.': bkg_txt[:, 4],\n",
    "                                    'ang.diam.dist.': bkg_txt[:, 5],\n",
    "                                    'lum.dist.': bkg_txt[:, 6],\n",
    "                                    'comov.snd.hrz.': bkg_txt[:, 7],\n",
    "                                    'rho_g': bkg_txt[:, 8],\n",
    "                                    'rho_b': bkg_txt[:, 9],\n",
    "                                    'rho_cdm': bkg_txt[:, 10],\n",
    "                                    'rho_lambda': bkg_txt[:, 11],\n",
    "                                    'rho_ur': bkg_txt[:, 12],\n",
    "                                    'rho_crit': bkg_txt[:, 13],\n",
    "                                    'rho_tot': bkg_txt[:, 14],\n",
    "                                    'p_tot': bkg_txt[:, 15],\n",
    "                                    'p_tot_prime': bkg_txt[:, 16],\n",
    "                                    'gr.fac.D': bkg_txt[:, 17],\n",
    "                                    'gr.fac.f': bkg_txt[:, 18]})\n",
    "    # PERTURBATIONS\n",
    "\n",
    "    filename_pk = inp_model + '_pk.dat'\n",
    "    file_pk = path_to_input + filename_pk\n",
    "    pk_txt = np.loadtxt(file_pk)\n",
    "    pk_data = pd.DataFrame({'k': pk_txt[:, 0], 'Pk': pk_txt[:, 1]})\n",
    "\n",
    "\n",
    "    # CMB\n",
    "\n",
    "    filename_cmb = inp_model + '_cl.dat'\n",
    "    file_cmb = path_to_input + filename_cmb\n",
    "    cmb_txt = np.loadtxt(file_cmb)\n",
    "    cmb_data = pd.DataFrame({'l': cmb_txt[:, 0], 'TT': cmb_txt[:, 1],\n",
    "                             'EE': cmb_txt[:, 2], 'TE': cmb_txt[:, 3],\n",
    "                             'BB': cmb_txt[:, 4]})\n",
    "\n",
    "    # THERMODYNAMICS\n",
    "\n",
    "    filename_therm = inp_model + '_thermodynamics.dat'\n",
    "    file_therm = path_to_input + filename_therm\n",
    "    therm_txt = np.loadtxt(file_therm)\n",
    "    therm_data = pd.DataFrame({'a': therm_txt[:, 0], 'z': therm_txt[:, 1],\n",
    "                             'conf. time': therm_txt[:, 2], 'xe': therm_txt[:, 3],\n",
    "                             'kappa': therm_txt[:, 4], 'exp(-kappa)': therm_txt[:, 5],\n",
    "                             'g': therm_txt[:, 6], 'Tb': therm_txt[:, 7],\n",
    "                             'dTb': therm_txt[:, 8], 'w_b': therm_txt[:, 9],\n",
    "                              'c_b^2': therm_txt[:, 10], 'tau_d': therm_txt[:, 11]})\n",
    "\n",
    "    if nl:\n",
    "        # NON-LINEAR PERTURBATIONS\n",
    "\n",
    "        filename_pk_nl = inp_model + '_pk_nl.dat'\n",
    "        file_pk_nl = path_to_input + filename_pk_nl\n",
    "        pk_nl_txt = np.loadtxt(file_pk_nl)\n",
    "        pk_nl_data = pd.DataFrame({'k_nl': pk_nl_txt[:, 0], 'Pk_nl': pk_nl_txt[:, 1]})\n",
    "\n",
    "        return bkg_data, pk_data, cmb_data, therm_data, pk_nl_data\n",
    "\n",
    "    if pert_ev:\n",
    "        # NON-LINEAR PERTURBATIONS\n",
    "\n",
    "        filename_k2 = inp_model + '_perturbations_k2_s.dat'\n",
    "        file_k2 = path_to_input + filename_k2\n",
    "        k2_txt = np.loadtxt(file_k2)\n",
    "        k2_data = pd.DataFrame({'tau': k2_txt[:, 0], 'a': k2_txt[:, 1],\n",
    "                                'delta_g': k2_txt[:, 2], 'theta_g': k2_txt[:, 3],\n",
    "                                'shear_g': k2_txt[:, 4], 'pol0_g': k2_txt[:, 5],\n",
    "                                'pol1_g': k2_txt[:, 6], 'pol2_g': k2_txt[:, 7],\n",
    "                                'delta_b': k2_txt[:, 8], 'theta_b': k2_txt[:, 9],\n",
    "                                'psi': k2_txt[:, 10], 'phi': k2_txt[:, 11],\n",
    "                                'delta_ur': k2_txt[:, 12], 'theta_ur': k2_txt[:, 13],\n",
    "                                'shear_ur': k2_txt[:, 14], 'delta_cdm': k2_txt[:, 15],\n",
    "                                'theta_cdm': k2_txt[:, 16]})\n",
    "        return bkg_data, pk_data, cmb_data, therm_data, k2_data\n",
    "\n",
    "    else:\n",
    "\n",
    "        return bkg_data, pk_data, cmb_data, therm_data\n",
    "\n",
    "\n",
    "if __name__ == \"__main__\":\n",
    "    main(inp_model)"
   ]
  },
  {
   "cell_type": "code",
   "execution_count": 31,
   "id": "2671ebda",
   "metadata": {},
   "outputs": [
    {
     "ename": "NameError",
     "evalue": "name 'bkg_txt' is not defined",
     "output_type": "error",
     "traceback": [
      "\u001b[0;31m---------------------------------------------------------------------------\u001b[0m",
      "\u001b[0;31mNameError\u001b[0m                                 Traceback (most recent call last)",
      "Cell \u001b[0;32mIn[31], line 1\u001b[0m\n\u001b[0;32m----> 1\u001b[0m bkg_txt\n",
      "\u001b[0;31mNameError\u001b[0m: name 'bkg_txt' is not defined"
     ]
    }
   ],
   "source": [
    "bkg_txt"
   ]
  },
  {
   "cell_type": "code",
   "execution_count": null,
   "id": "843e5c04",
   "metadata": {},
   "outputs": [],
   "source": []
  }
 ],
 "metadata": {
  "kernelspec": {
   "display_name": "Python 3 (ipykernel)",
   "language": "python",
   "name": "python3"
  },
  "language_info": {
   "codemirror_mode": {
    "name": "ipython",
    "version": 3
   },
   "file_extension": ".py",
   "mimetype": "text/x-python",
   "name": "python",
   "nbconvert_exporter": "python",
   "pygments_lexer": "ipython3",
   "version": "3.11.5"
  }
 },
 "nbformat": 4,
 "nbformat_minor": 5
}
